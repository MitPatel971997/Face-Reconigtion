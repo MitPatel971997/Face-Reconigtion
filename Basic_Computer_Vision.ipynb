{
 "cells": [
  {
   "cell_type": "code",
   "execution_count": 20,
   "metadata": {},
   "outputs": [],
   "source": [
    "#opencv takes a couple seconds to import the first time\n",
    "import cv2"
   ]
  },
  {
   "cell_type": "code",
   "execution_count": 21,
   "metadata": {},
   "outputs": [],
   "source": [
    "import numpy as np"
   ]
  },
  {
   "cell_type": "code",
   "execution_count": 22,
   "metadata": {},
   "outputs": [],
   "source": [
    "#load an image using 'imread' specifying the path to image\n",
    "input =cv2.imread('../Downloads/data/train/madonna/httpiamediaimdbcomimagesMMVBMTANDQNTAxNDVeQTJeQWpwZBbWUMDIMjQOTYVUXCRALjpg.jpg')\n",
    "\n",
    "#the first parameter will be title shown on image window\n",
    "#the seconf parameter is the image variable\n",
    "cv2.imshow(\"Madonna\",input)\n",
    "\n",
    "#'waitkey allow us to input information when a image is open by leaving it blank\n",
    "#it just wiats for anykey to be pressed before continuing. By placing number(except 0), we can specify a delay\n",
    "#for how lonh you keep the window open(time is in millisecond)'\n",
    "cv2.waitKey()\n",
    "\n",
    "#this closes all open window\n",
    "cv2.destroyAllWindows()"
   ]
  },
  {
   "cell_type": "code",
   "execution_count": 19,
   "metadata": {},
   "outputs": [
    {
     "name": "stdout",
     "output_type": "stream",
     "text": [
      "(317, 214, 3)\n",
      "Height of Image : 317\n",
      "Width of Image : 214\n"
     ]
    }
   ],
   "source": [
    "print(input.shape)\n",
    "print(\"Height of Image : {}\".format(input.shape[0]))\n",
    "print(\"Width of Image : {}\".format(input.shape[1]))"
   ]
  },
  {
   "cell_type": "code",
   "execution_count": 23,
   "metadata": {},
   "outputs": [
    {
     "data": {
      "text/plain": [
       "True"
      ]
     },
     "execution_count": 23,
     "metadata": {},
     "output_type": "execute_result"
    }
   ],
   "source": [
    "#'imwrite' specifing the file name and the image to be saved\n",
    "cv2.imwrite('Madonna123.jpg',input)"
   ]
  },
  {
   "cell_type": "code",
   "execution_count": 8,
   "metadata": {},
   "outputs": [
    {
     "data": {
      "text/plain": [
       "'/home/mit/opecv_examples'"
      ]
     },
     "execution_count": 8,
     "metadata": {},
     "output_type": "execute_result"
    }
   ],
   "source": [
    "pwd"
   ]
  },
  {
   "cell_type": "code",
   "execution_count": 9,
   "metadata": {},
   "outputs": [],
   "source": [
    "#grayscaling\n",
    "gray_image=cv2.cvtColor(input,cv2.COLOR_BGR2GRAY)\n",
    "cv2.imshow(\"Madonna Gray\",gray_image)\n",
    "cv2.waitKey()\n",
    "cv2.destroyAllWindows()"
   ]
  },
  {
   "cell_type": "code",
   "execution_count": 26,
   "metadata": {},
   "outputs": [],
   "source": [
    "#fasterway for grayscaling\n",
    "img =cv2.imread('../Downloads/data/train/madonna/httpiamediaimdbcomimagesMMVBMTANDQNTAxNDVeQTJeQWpwZBbWUMDIMjQOTYVUXCRALjpg.jpg',0)\n",
    "cv2.imshow(\"Madonna Gray1\",img)\n",
    "cv2.waitKey(0)\n",
    "cv2.destroyAllWindows()"
   ]
  },
  {
   "cell_type": "code",
   "execution_count": 11,
   "metadata": {},
   "outputs": [
    {
     "name": "stdout",
     "output_type": "stream",
     "text": [
      "134 137 135\n"
     ]
    }
   ],
   "source": [
    "#BGR Values for the first 0,0 pixel(3 dimensional)\n",
    "B, G, R=input[0,0]\n",
    "print(B, G, R)"
   ]
  },
  {
   "cell_type": "code",
   "execution_count": 12,
   "metadata": {},
   "outputs": [
    {
     "name": "stdout",
     "output_type": "stream",
     "text": [
      "(317, 214)\n",
      "136\n"
     ]
    }
   ],
   "source": [
    "#Gray images is store in 2-dimensioanl \n",
    "print(gray_image.shape)\n",
    "print(gray_image[0,0])"
   ]
  },
  {
   "cell_type": "code",
   "execution_count": 27,
   "metadata": {},
   "outputs": [],
   "source": [
    "#1st and 2nd parameter are height and width of image \n",
    "hsv_image=cv2.cvtColor(input,cv2.COLOR_BGR2HSV)\n",
    "cv2.imshow(\"HSV_Image\",hsv_image)\n",
    "cv2.imshow(\"Hue Channel\",hsv_image[:,:,0])\n",
    "cv2.imshow(\"Saturtion channel\",hsv_image[:,:,1])\n",
    "cv2.imshow(\"Value Channel\",hsv_image[:,:,2])\n",
    "\n",
    "cv2.waitKey()\n",
    "cv2.destroyAllWindows()"
   ]
  },
  {
   "cell_type": "code",
   "execution_count": 38,
   "metadata": {},
   "outputs": [],
   "source": [
    "#opencv split function splites the image into each color index\n",
    "B,G,R=cv2.split(input)\n",
    "\n",
    "#print(\"Blue: {}\".format(B))\n",
    "#print(\"green\",G)\n",
    "#print(\"red\",R)\n",
    "\"\"\"\n",
    "cv2.imshow(\"Red\",R)\n",
    "cv2.imshow(\"Green\",G)\n",
    "cv2.imshow(\"Blue\",B)\n",
    "cv2.waitKey(0)\n",
    "cv2.destroyAllWindows()\n",
    "\"\"\"\n",
    "#let's re-make the original image,\n",
    "merged=cv2.merge([B,G,R])\n",
    "cv2.imshow(\"Merge\",merged)\n",
    "#let's amplify the blue,Green,Red color\n",
    "#merged_blue=cv2.merge([B+100,G,R])\n",
    "#merged_Green=cv2.merge([B,G+100,R])\n",
    "#merged_Red=cv2.merge([B,G,R+100])\n",
    "merged_all=cv2.merge([B+50,G+50,R+50])\n",
    "\n",
    "cv2.imshow(\"amplify blue\",merged_blue)\n",
    "cv2.imshow(\"amplify green\",merged_Green)\n",
    "cv2.imshow(\"amplify red\",merged_Red)\n",
    "cv2.imshow(\"ampli all\",merged_all)\n",
    "\n",
    "cv2.waitKey(0)\n",
    "cv2.destroyAllWindows()\n"
   ]
  },
  {
   "cell_type": "code",
   "execution_count": null,
   "metadata": {},
   "outputs": [],
   "source": [
    "B,G,R=cv2.split(input)\n",
    "zeros=np.zeros(input.shape[:2],dtype=\"uint8\")\n",
    "\n",
    "cv2.imshow(\"Red\",cv2.merge([zeros,zeros,R]))\n",
    "cv2.imshow(\"Green\",cv2.merge([zeros,G,zeros]))\n",
    "cv2.imshow(\"Blue\",cv2.merge([B,zeros,zeros]))\n",
    "\n",
    "cv2.waitKey(0)\n",
    "cv2.destroyAllWindows()\n",
    "\n",
    "input.shape[:2]"
   ]
  },
  {
   "cell_type": "code",
   "execution_count": 31,
   "metadata": {},
   "outputs": [
    {
     "data": {
      "image/png": "[encoded data removed]",
      "text/plain": [
       "<Figure size 432x288 with 1 Axes>"
      ]
     },
     "metadata": {},
     "output_type": "display_data"
    },
    {
     "data": {
      "image/png": "[encoded data removed]",
      "text/plain": [
       "<Figure size 432x288 with 1 Axes>"
      ]
     },
     "metadata": {},
     "output_type": "display_data"
    }
   ],
   "source": [
    "from matplotlib import pyplot as plt\n",
    "histogram=cv2.calcHist([input],[0],None,[256],[0,256])\n",
    "#cv2.calcHist(images,channels,mask,histsize,ranges)\n",
    "#images=image source of type uint8 or float32\n",
    "#channels=it is also given in square brackets.It is index of channelfor which we calculate histogram. \n",
    "#For Example ,if input is grayscale images, its value is[0]. For color image, you can pass [0],[1],[2] to calculate\n",
    "#histogram of blue,green or red channel respectively \n",
    "#mask=mask image. To find histogram of full image,it is given none or else we have to create mask for the particulat\n",
    "#part of the image\n",
    "#histSize=this represents our BIN count.Need to be given in square brackets.For full scale, we pass[256]\n",
    "#ranges=this is our range. Normally it is [0,256]\n",
    "\n",
    "#ravel() flatten our image arry\n",
    "plt.hist(input.ravel(),256,[0,256])\n",
    "plt.show()\n",
    "\n",
    "#view seperate color channel\n",
    "color=('b','g','r')\n",
    "\n",
    "for i,col in enumerate(color):\n",
    "    histogram2=cv2.calcHist([input],[i],None,[256],[0,256])\n",
    "    plt.plot(histogram2,color=col)\n",
    "    plt.xlim([0,256])\n",
    "plt.show()"
   ]
  },
  {
   "cell_type": "code",
   "execution_count": 25,
   "metadata": {},
   "outputs": [],
   "source": [
    "\n",
    "cv2.imshow(\"Gray\",cv2.cvtColor(input,cv2.COLOR_BGR2GRAY))\n",
    "cv2.waitKey(0)\n",
    "cv2.destroyAllWindows()"
   ]
  },
  {
   "cell_type": "code",
   "execution_count": null,
   "metadata": {},
   "outputs": [],
   "source": []
  }
 ],
 "metadata": {
  "kernelspec": {
   "display_name": "Python 3",
   "language": "python",
   "name": "python3"
  },
  "language_info": {
   "codemirror_mode": {
    "name": "ipython",
    "version": 3
   },
   "file_extension": ".py",
   "mimetype": "text/x-python",
   "name": "python",
   "nbconvert_exporter": "python",
   "pygments_lexer": "ipython3",
   "version": "3.5.2"
  }
 },
 "nbformat": 4,
 "nbformat_minor": 2
}

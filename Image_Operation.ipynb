{
 "cells": [
  {
   "cell_type": "code",
   "execution_count": 1,
   "metadata": {},
   "outputs": [],
   "source": [
    "import cv2\n",
    "import numpy as np\n",
    "\n",
    "#Translation\n",
    "image=cv2.imread(\"../data/train/madonna/httpiamediaimdbcomimagesMMVBMTANDQNTAxNDVeQTJeQWpwZBbWUMDIMjQOTYVUXCRALjpg.jpg\")\n",
    "height,width=image.shape[:2]\n",
    "quater_height,quater_width=height/4,width/4\n",
    "T=np.float32([[1,0,quater_width],[0,1,quater_height]])\n",
    "?cv2.warpAffine()\n",
    "img_translation=cv2.warpAffine(image,T,(width,height))\n",
    "cv2.imshow('Translation',img_translation)\n",
    "cv2.waitKey()\n",
    "cv2.destroyAllWindows()"
   ]
  },
  {
   "cell_type": "code",
   "execution_count": 2,
   "metadata": {},
   "outputs": [],
   "source": [
    "#Rotated Image 2\n",
    "?cv2.transpose\n",
    "rotated_image=cv2.transpose(image)\n",
    "cv2.imshow('Rotated Image-Method 2',rotated_image)\n",
    "cv2.waitKey(0)\n",
    "cv2.destroyAllWindows()"
   ]
  },
  {
   "cell_type": "code",
   "execution_count": 3,
   "metadata": {},
   "outputs": [],
   "source": [
    "#make image of 3/4\n",
    "?cv2.resize()\n",
    "image_scaled=cv2.resize(image,None,fx=0.75,fy=0.75)\n",
    "cv2.imshow(\"Scaling-linear Interpolation\",image_scaled)\n",
    "cv2.imshow(\"Original Image\",image)\n",
    "cv2.waitKey(0)\n",
    "cv2.destroyAllWindows()"
   ]
  },
  {
   "cell_type": "code",
   "execution_count": 5,
   "metadata": {},
   "outputs": [],
   "source": [
    "#make image size of it's double\n",
    "image_scaled=cv2.resize(image,None,fx=2,fy=2,interpolation=cv2.INTER_CUBIC)\n",
    "cv2.imshow(\"Scaling-cubic Interpolation\",image_scaled)\n",
    "cv2.imshow(\"Original Image\",image)\n",
    "cv2.waitKey(0)\n",
    "cv2.destroyAllWindows()"
   ]
  },
  {
   "cell_type": "code",
   "execution_count": 6,
   "metadata": {},
   "outputs": [],
   "source": [
    "#make image by setting thrie dimension\n",
    "image_scaled=cv2.resize(image,(900,400),interpolation=cv2.INTER_AREA)\n",
    "cv2.imshow(\"Scaling-Skewed Size\",image_scaled)\n",
    "cv2.imshow(\"Original Image\",image)\n",
    "cv2.waitKey(0)\n",
    "cv2.destroyAllWindows()"
   ]
  },
  {
   "cell_type": "code",
   "execution_count": 4,
   "metadata": {},
   "outputs": [],
   "source": [
    "#make the image pyramid\n",
    "smaller=cv2.pyrDown(image)\n",
    "larger=cv2.pyrUp(image)\n",
    "cv2.imshow(\"Original Image\",image)\n",
    "cv2.imshow(\"Smaller\",smaller)\n",
    "cv2.imshow(\"Larger\",larger)\n",
    "cv2.waitKey(0)\n",
    "cv2.destroyAllWindows()"
   ]
  },
  {
   "cell_type": "code",
   "execution_count": 5,
   "metadata": {},
   "outputs": [],
   "source": [
    "#image cropping\n",
    "height,width=image.shape[:2]\n",
    "start_row,start_col=int(height*0.25),int(width*0.25)\n",
    "end_row,end_col=int(height*0.70),int(width*0.70)\n",
    "cropped=image[start_row:end_row,start_col:end_col]\n",
    "cv2.imshow(\"Original Image\",image)\n",
    "cv2.imshow(\"Cropped Image\",cropped)\n",
    "cv2.waitKey(0)\n",
    "cv2.destroyAllWindows()\n"
   ]
  },
  {
   "cell_type": "code",
   "execution_count": 9,
   "metadata": {},
   "outputs": [],
   "source": [
    "#image airthmetic operation\n",
    "M=np.ones(image.shape,dtype='uint8')*75\n",
    "added=cv2.add(image,M)\n",
    "cv2.imshow(\"Addition\",added)\n",
    "cv2.imshow(\"Original image\",image)\n",
    "\n",
    "subtract=cv2.subtract(image,M)\n",
    "cv2.imshow(\"Subtraction\",subtract)\n",
    "cv2.imshow(\"Original image\",image)\n",
    "\n",
    "cv2.waitKey(0)\n",
    "cv2.destroyAllWindows()\n"
   ]
  },
  {
   "cell_type": "code",
   "execution_count": 6,
   "metadata": {},
   "outputs": [],
   "source": [
    "#image bitwise operations and masking\n",
    "square=np.zeros((300,300),np.uint8)\n",
    "cv2.rectangle(square,(50,50),(250,250),255,-2)\n",
    "cv2.imshow(\"Square\",square)\n",
    "\n",
    "ellipse=np.zeros((300,300),np.uint8)\n",
    "cv2.ellipse(ellipse,(150,150),(150,150),30,0,180,255,-1)\n",
    "cv2.imshow(\"Ellipse\",ellipse)\n",
    "cv2.waitKey(0)\n",
    "cv2.destroyAllWindows()"
   ]
  },
  {
   "cell_type": "code",
   "execution_count": 11,
   "metadata": {},
   "outputs": [],
   "source": [
    "#shows only where they intersect\n",
    "#shows only the part is common\n",
    "And=cv2.bitwise_and(square,ellipse)\n",
    "cv2.imshow(\"And\",And)\n",
    "\n",
    "#shows wither square or elipse is there\n",
    "bitwiseOr=cv2.bitwise_or(square,ellipse)\n",
    "cv2.imshow(\"OR\",bitwiseOr)\n",
    "\n",
    "#shows where either exist by itself\n",
    "bitwieseXor=cv2.bitwise_xor(square,ellipse)\n",
    "cv2.imshow(\"XOR\",bitwieseXor)\n",
    "\n",
    "#shows everthing that isn't part of square\n",
    "bitwiseNot_sq=cv2.bitwise_not(square)\n",
    "cv2.imshow(\"NOT-square\",bitwiseNot_sq\n",
    "          )\n",
    "cv2.waitKey(0)\n",
    "cv2.destroyAllWindows()"
   ]
  },
  {
   "cell_type": "code",
   "execution_count": 7,
   "metadata": {},
   "outputs": [],
   "source": [
    "#convolution and bluring\n",
    "#image1=cv2.imread(\"../data/train/madonna/httpiamediaimdbcomimagesMMVBMTANDQNTAxNDVeQTJeQWpwZBbWUMDIMjQOTYVUXCRALjpg.jpg\")\n",
    "cv2.imshow(\"Original Image\",image)\n",
    "\n",
    "kernel_3x3=np.ones((3,3),np.float32)/9\n",
    "blurred=cv2.filter2D(image,-1,kernel_3x3)\n",
    "cv2.imshow(\"3x3 kernel Blurring\",blurred)\n",
    "\n",
    "\n",
    "kernel_7x7=np.ones((7,7),np.float32)/49\n",
    "blurred2=cv2.filter2D(image,-1,kernel_7x7)\n",
    "cv2.imshow(\"7x7 kernel Blurring\",blurred2)\n",
    "\n",
    "cv2.waitKey(0)\n",
    "cv2.destroyAllWindows()\n"
   ]
  },
  {
   "cell_type": "code",
   "execution_count": 8,
   "metadata": {},
   "outputs": [],
   "source": [
    "#other technique for bluring\n",
    "#box filter\n",
    "blur=cv2.blur(image,(3,3))\n",
    "cv2.imshow(\"Averaging\",blur)\n",
    "\n",
    "Gaussian=cv2.GaussianBlur(image,(7,7),0)\n",
    "cv2.imshow(\"Gaussian blur\",Gaussian)\n",
    "\n",
    "median=cv2.medianBlur(image,5)\n",
    "cv2.imshow(\"Meadian Blur\",median)\n",
    "\n",
    "bilateral=cv2.bilateralFilter(image,9,75,75)\n",
    "cv2.imshow('Bilateral Blurring',bilateral)\n",
    "\n",
    "cv2.waitKey(0)\n",
    "cv2.destroyAllWindows()"
   ]
  },
  {
   "cell_type": "code",
   "execution_count": null,
   "metadata": {},
   "outputs": [],
   "source": []
  },
  {
   "cell_type": "code",
   "execution_count": 9,
   "metadata": {},
   "outputs": [],
   "source": [
    "#DE-noising-Non-Local Means Denoising\n",
    "dst=cv2.fastNlMeansDenoisingColored(image,None,6,6,7,21)\n",
    "cv2.imshow(\"Fast Means Denoising\",dst)\n",
    "cv2.waitKey(0)\n",
    "cv2.destroyAllWindows()"
   ]
  },
  {
   "cell_type": "code",
   "execution_count": 10,
   "metadata": {},
   "outputs": [],
   "source": [
    "#sharpening\n",
    "cv2.imshow(\"Original image\",image)\n",
    "kernel_sharpening=np.array([[-1,-1,-1],\n",
    "                           [-1,9,-1],\n",
    "                           [-1,-1,-1]])\n",
    "sharpned=cv2.filter2D(image,-1,kernel_sharpening)\n",
    "cv2.imshow('Image Sharpening',sharpned)\n",
    "cv2.waitKey(0)\n",
    "cv2.destroyAllWindows()"
   ]
  },
  {
   "cell_type": "code",
   "execution_count": 15,
   "metadata": {},
   "outputs": [],
   "source": [
    "#Therasholding, Binarization & Adaptive Threasholding\n",
    "image1=cv2.imread(\"../data/train/madonna/httpiamediaimdbcomimagesMMVBMTANDQNTAxNDVeQTJeQWpwZBbWUMDIMjQOTYVUXCRALjpg.jpg\",\n",
    "                 0)\n",
    "cv2.imshow(\"Original image\",image)\n",
    "\n",
    "#values below 127 goes to 0\n",
    "ret,thresh1=cv2.threshold(image,127,255,cv2.THRESH_BINARY)\n",
    "cv2.imshow(\"1 Threashold Binary\",thresh1)\n",
    "\n",
    "#values below 127 goes to 255 and above 127 goes to 0\n",
    "ret,thresh2=cv2.threshold(image,127,255,cv2.THRESH_BINARY_INV)\n",
    "cv2.imshow(\"2 Threashold Binary\",thresh2)\n",
    "\n",
    "#values above 127 are truncated at 127 and 255 are not used\n",
    "ret,thresh3=cv2.threshold(image,127,255,cv2.THRESH_TRUNC)\n",
    "cv2.imshow(\"3 Threashold Binary\",thresh3)\n",
    "\n",
    "#values below 127 goes to 0,and above 127 are unchanged\n",
    "ret,thresh4=cv2.threshold(image,127,255,cv2.THRESH_TOZERO)\n",
    "cv2.imshow(\"4 Threashold Binary\",thresh4)\n",
    "\n",
    "#above 127 goes to 0 and below 127 are unchanged\n",
    "ret,thresh5=cv2.threshold(image,127,255,cv2.THRESH_TOZERO_INV)\n",
    "cv2.imshow(\"5 Threashold Binary\",thresh5)\n",
    "\n",
    "cv2.waitKey(0)\n",
    "cv2.destroyAllWindows()"
   ]
  },
  {
   "cell_type": "code",
   "execution_count": null,
   "metadata": {},
   "outputs": [],
   "source": []
  },
  {
   "cell_type": "code",
   "execution_count": 17,
   "metadata": {},
   "outputs": [],
   "source": [
    "import cv2\n",
    "#Adaptive Threasholding\n",
    "image2=cv2.imread(\"../data/train/madonna/httpiamediaimdbcomimagesMMVBMTANDQNTAxNDVeQTJeQWpwZBbWUMDIMjQOTYVUXCRALjpg.jpg\",0)\n",
    "cv2.imshow(\"Original Image\",image2)\n",
    "\n",
    "ret,thresh1=cv2.threshold(image2,127,255,cv2.THRESH_BINARY)\n",
    "cv2.imshow(\"1 Threashold Binary\",thresh1)\n",
    "\n",
    "image=cv2.GaussianBlur(image2,(3,3),0)\n",
    "\n",
    "thresh=cv2.adaptiveThreshold(image2,255,cv2.ADAPTIVE_THRESH_MEAN_C,cv2.THRESH_BINARY,3,5)\n",
    "cv2.imshow(\"Adaptive Mean Threasholding\",thresh)\n",
    "\n",
    "_,th2=cv2.threshold(image,0,255,cv2.THRESH_BINARY+cv2.THRESH_OTSU)\n",
    "cv2.imshow(\"Otsu's Threasholding\",thresh)\n",
    "\n",
    "blur=cv2.GaussianBlur(image,(5,5),0)\n",
    "_,th3=cv2.threshold(blur,0,255,cv2.THRESH_BINARY+cv2.THRESH_OTSU)\n",
    "cv2.imshow(\"Gaussian Otsu's Threasholding\",thresh)\n",
    "\n",
    "\n",
    "cv2.waitKey(0)\n",
    "cv2.destroyAllWindows()"
   ]
  },
  {
   "cell_type": "code",
   "execution_count": 12,
   "metadata": {},
   "outputs": [
    {
     "ename": "NameError",
     "evalue": "name 'image2' is not defined",
     "output_type": "error",
     "traceback": [
      "\u001b[0;31m---------------------------------------------------------------------------\u001b[0m",
      "\u001b[0;31mNameError\u001b[0m                                 Traceback (most recent call last)",
      "\u001b[0;32m<ipython-input-12-567c00d3b332>\u001b[0m in \u001b[0;36m<module>\u001b[0;34m()\u001b[0m\n\u001b[1;32m      1\u001b[0m \u001b[0;32mimport\u001b[0m \u001b[0mnumpy\u001b[0m \u001b[0;32mas\u001b[0m \u001b[0mnp\u001b[0m\u001b[0;34m\u001b[0m\u001b[0m\n\u001b[1;32m      2\u001b[0m \u001b[0;31m#Erosion, Dilation, Opening and Closing\u001b[0m\u001b[0;34m\u001b[0m\u001b[0;34m\u001b[0m\u001b[0m\n\u001b[0;32m----> 3\u001b[0;31m \u001b[0mcv2\u001b[0m\u001b[0;34m.\u001b[0m\u001b[0mimshow\u001b[0m\u001b[0;34m(\u001b[0m\u001b[0;34m\"Original Image\"\u001b[0m\u001b[0;34m,\u001b[0m\u001b[0mimage2\u001b[0m\u001b[0;34m)\u001b[0m\u001b[0;34m\u001b[0m\u001b[0m\n\u001b[0m\u001b[1;32m      4\u001b[0m \u001b[0;34m\u001b[0m\u001b[0m\n\u001b[1;32m      5\u001b[0m \u001b[0mkernel\u001b[0m\u001b[0;34m=\u001b[0m\u001b[0mnp\u001b[0m\u001b[0;34m.\u001b[0m\u001b[0mones\u001b[0m\u001b[0;34m(\u001b[0m\u001b[0;34m(\u001b[0m\u001b[0;36m5\u001b[0m\u001b[0;34m,\u001b[0m\u001b[0;36m5\u001b[0m\u001b[0;34m)\u001b[0m\u001b[0;34m,\u001b[0m\u001b[0mnp\u001b[0m\u001b[0;34m.\u001b[0m\u001b[0muint8\u001b[0m\u001b[0;34m)\u001b[0m\u001b[0;34m\u001b[0m\u001b[0m\n",
      "\u001b[0;31mNameError\u001b[0m: name 'image2' is not defined"
     ]
    }
   ],
   "source": [
    "import numpy as np\n",
    "#Erosion, Dilation, Opening and Closing \n",
    "cv2.imshow(\"Original Image\",image2)\n",
    "\n",
    "kernel=np.ones((5,5),np.uint8)\n",
    "\n",
    "erosion=cv2.erode(image2,kernel,iterations=1)\n",
    "cv2.imshow('Erosion',erosion)\n",
    "\n",
    "Dilation=cv2.dilate(image2,kernel,iterations=1)\n",
    "cv2.imshow('Dilation',Dilation)\n",
    "\n",
    "Opening=cv2.morphologyEx(image2,cv2.MORPH_OPEN,kernel)\n",
    "cv2.imshow('Opening',Opening)\n",
    "\n",
    "Closing=cv2.morphologyEx(image2,cv2.MORPH_CLOSE,kernel)\n",
    "cv2.imshow('Closing',Closing)\n",
    "\n",
    "cv2.waitKey(0)\n",
    "cv2.destroyAllWindows()\n"
   ]
  },
  {
   "cell_type": "code",
   "execution_count": 3,
   "metadata": {},
   "outputs": [],
   "source": [
    "#Edge Detection & Image Gradients\n",
    "height,width=image2.shape\n",
    "\n",
    "sobel_x=cv2.Sobel(image2,cv2.CV_64F,0,1,ksize=5)\n",
    "sobel_y=cv2.Sobel(image2,cv2.CV_64F,1,0,ksize=5)\n",
    "\n",
    "cv2.imshow(\"Original\",image2)\n",
    "cv2.imshow(\"Sobel X\",sobel_x)\n",
    "cv2.imshow(\"Sobel Y\",sobel_y)\n",
    "\n",
    "sobel_OR=cv2.bitwise_or(sobel_x,sobel_y)\n",
    "cv2.imshow(\"Sobel OR\",sobel_OR)\n",
    "\n",
    "laplacian=cv2.Laplacian(image2,cv2.CV_64F)\n",
    "cv2.imshow(\"Laplacian\",laplacian)\n",
    "\n",
    "canny=cv2.Canny(image2,20,170)\n",
    "cv2.imshow(\"Canny\",canny)\n",
    "\n",
    "cv2.waitKey(0)\n",
    "cv2.destroyAllWindows()"
   ]
  },
  {
   "cell_type": "code",
   "execution_count": 15,
   "metadata": {},
   "outputs": [],
   "source": [
    "#Perspective and Affine Transform\n",
    "import matplotlib.pyplot as plt\n",
    "\n",
    "image3=cv2.imread(\"/home/mit/Downloads/image138.png\")\n",
    "cv2.imshow(\"Original Image\",image3)\n",
    "\n",
    "points_A=np.float32([[66,4],[246,108],[2,102],[168,195]])\n",
    "points_B=np.float32([[0,0],[200,0],[0,350],[200,350]])\n",
    "M=cv2.getPerspectiveTransform(points_A,points_B)\n",
    "wrapped=cv2.warpPerspective(image3,M,(200,350))\n",
    "\n",
    "cv2.imshow('WrapPerspective',wrapped)\n",
    "cv2.waitKey(0)\n",
    "cv2.destroyAllWindows()"
   ]
  },
  {
   "cell_type": "code",
   "execution_count": null,
   "metadata": {},
   "outputs": [],
   "source": []
  }
 ],
 "metadata": {
  "kernelspec": {
   "display_name": "Python 3",
   "language": "python",
   "name": "python3"
  },
  "language_info": {
   "codemirror_mode": {
    "name": "ipython",
    "version": 3
   },
   "file_extension": ".py",
   "mimetype": "text/x-python",
   "name": "python",
   "nbconvert_exporter": "python",
   "pygments_lexer": "ipython3",
   "version": "3.5.2"
  }
 },
 "nbformat": 4,
 "nbformat_minor": 2
}
